{
 "cells": [
  {
   "cell_type": "markdown",
   "metadata": {},
   "source": [
    "# FINAL EXAMINATION \n",
    "- Các bạn có thời gian làm bài là 2.5h\n",
    "- Chỉ được sử dụng tài liệu có sẵn và không được sử dụng những tài liệu tham khảo là AI(ChatGPT, Gemini,...)\n",
    "- Cố gắng làm hết khả năng của mình nha :)"
   ]
  },
  {
   "cell_type": "markdown",
   "metadata": {},
   "source": [
    "# Câu 1: 3 Điểm"
   ]
  },
  {
   "cell_type": "markdown",
   "metadata": {},
   "source": [
    "### Công thức Minkowski\n",
    "Khoảng cách Minkowski giữa hai điểm $$ x = (x_1, x_2, \\dots, x_n) $$ và $$ y = (y_1, y_2, \\dots, y_n) $$ được tính như sau:\n",
    "\n",
    "$$\n",
    "d(x, y) = \\left( \\sum_{i=1}^n |x_i - y_i|^p \\right)^{1/p}\n",
    "$$\n",
    "\n",
    "Trong đó:\n",
    "- \\( x \\) và \\( y \\) là các điểm trong không gian n-chiều.\n",
    "- \\( p \\) là bậc của khoảng cách (ví dụ: \\( p=1 \\) là khoảng cách Manhattan, \\( p=2 \\) là khoảng cách Euclid).\n",
    "\n",
    "\n",
    "Yêu cầu:\n",
    "Viết hàm hàm tính khoảng cách Minkowski khi biết x = [1, 2, 3] và y = [4, 5, 6]\n"
   ]
  },
  {
   "cell_type": "code",
   "execution_count": null,
   "metadata": {},
   "outputs": [],
   "source": [
    "def minkowski_distance(x, y, p):\n",
    "    \"\"\"\n",
    "    Tính khoảng cách Minkowski giữa hai điểm.\n",
    "\n",
    "    Parameters:\n",
    "        x (list or tuple): Tọa độ điểm thứ nhất.\n",
    "        y (list or tuple): Tọa độ điểm thứ hai.\n",
    "        p (float): Bậc của khoảng cách (p=1 là Manhattan, p=2 là Euclid, v.v.).\n",
    "\n",
    "    Returns:\n",
    "        float: Khoảng cách Minkowski giữa x và y.\n",
    "    \"\"\"\n",
    "    #Code here\n",
    "    return "
   ]
  },
  {
   "cell_type": "code",
   "execution_count": null,
   "metadata": {},
   "outputs": [],
   "source": [
    "# Tọa độ hai điểm\n",
    "point1 = [1, 2, 3]\n",
    "point2 = [4, 5, 6]\n",
    "\n",
    "# Khoảng cách Minkowski với p=2 (Euclid)\n",
    "#Code here\n",
    "# Khoảng cách Minkowski với p=1 (Manhattan)\n",
    "#Code here\n",
    "# Khoảng cách Minkowski với p=3\n",
    "#Code here"
   ]
  },
  {
   "cell_type": "markdown",
   "metadata": {},
   "source": [
    "# Câu 2: 2 Điểm"
   ]
  },
  {
   "cell_type": "code",
   "execution_count": null,
   "metadata": {},
   "outputs": [],
   "source": [
    "import numpy as np\n",
    "from sklearn.metrics import accuracy_score\n",
    "\n",
    "def knn_predict(train_X, train_y, test_X, k):\n",
    "    predictions = []\n",
    "    for test_point in test_X:\n",
    "        distances = np.linalg.norm(train_X - test_point, axis=0)\n",
    "        neighbors = np.argsort(distances)[:k]\n",
    "        neighbor_labels = train_y[neighbors]\n",
    "        prediction = max(set(neighbor_labels), key=neighbor_labels.count) \n",
    "    return predictions\n",
    "# Dữ liệu mẫu\n",
    "train_X = np.array([[1, 2], [2, 3], [3, 4]])\n",
    "train_y = np.array([0, 1, 0])\n",
    "test_X = np.array([[1, 2]])\n",
    "# Gọi hàm\n",
    "k = 3\n",
    "predictions = knn_predict(train_X, train_y, test_X, k)\n",
    "print(\"Predictions:\", predictions)"
   ]
  },
  {
   "cell_type": "markdown",
   "metadata": {},
   "source": [
    "### Đoạn code trên đúng hay sai? Nếu sai thì sửa lại như thế nào cho đúng ?"
   ]
  },
  {
   "cell_type": "code",
   "execution_count": null,
   "metadata": {},
   "outputs": [],
   "source": [
    "# Trả lời câu hỏi trên ở đây\n",
    "\n",
    "\n",
    "##### Code here"
   ]
  },
  {
   "cell_type": "markdown",
   "metadata": {},
   "source": [
    "# Câu 3: 5 Điểm"
   ]
  },
  {
   "cell_type": "markdown",
   "metadata": {},
   "source": [
    "Dùng tập dữ liệu MNIST. Huấn luyện một MLP với ba tầng ẩn (hidden layers) để phân loại ảnh số từ 0-9. In ra độ chính xác trên tập kiểm tra."
   ]
  },
  {
   "cell_type": "code",
   "execution_count": null,
   "metadata": {},
   "outputs": [],
   "source": [
    "##### Code here"
   ]
  },
  {
   "cell_type": "code",
   "execution_count": null,
   "metadata": {},
   "outputs": [],
   "source": [
    "##### Code here"
   ]
  },
  {
   "cell_type": "code",
   "execution_count": null,
   "metadata": {},
   "outputs": [],
   "source": [
    "##### Code here"
   ]
  },
  {
   "cell_type": "code",
   "execution_count": null,
   "metadata": {},
   "outputs": [],
   "source": [
    "##### Code here"
   ]
  },
  {
   "cell_type": "code",
   "execution_count": null,
   "metadata": {},
   "outputs": [],
   "source": [
    "##### Code here"
   ]
  }
 ],
 "metadata": {
  "kernelspec": {
   "display_name": "Python 3",
   "language": "python",
   "name": "python3"
  },
  "language_info": {
   "codemirror_mode": {
    "name": "ipython",
    "version": 3
   },
   "file_extension": ".py",
   "mimetype": "text/x-python",
   "name": "python",
   "nbconvert_exporter": "python",
   "pygments_lexer": "ipython3",
   "version": "3.10.8"
  }
 },
 "nbformat": 4,
 "nbformat_minor": 2
}
